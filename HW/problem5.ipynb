{
 "cells": [
  {
   "cell_type": "code",
   "execution_count": 5,
   "metadata": {},
   "outputs": [
    {
     "data": {
      "text/latex": [
       "$$ \\begin{aligned}\n",
       "\\max\\quad & 5 d + 5 w\\\\\n",
       "\\text{Subject to} \\quad & 2 d + 4 w \\leq 18.0\\\\\n",
       " & 6 d + 5 w \\leq 30.0\\\\\n",
       " & d \\geq 0.0\\\\\n",
       " & w \\geq 0.0\\\\\n",
       " & d \\in \\mathbb{Z}\\\\\n",
       " & w \\in \\mathbb{Z}\\\\\n",
       "\\end{aligned} $$"
      ]
     },
     "metadata": {},
     "output_type": "display_data"
    },
    {
     "name": "stdout",
     "output_type": "stream",
     "text": [
      "Optimal Solution:\n",
      "d = 2.0\n",
      "w = 3.0\n",
      "Objective value: 25.0\n"
     ]
    }
   ],
   "source": [
    "using JuMP, GLPK\n",
    "\n",
    "m = Model(GLPK.Optimizer)\n",
    "\n",
    "@variable(m, d >= 0, Int)\n",
    "@variable(m, w >= 0, Int)\n",
    "\n",
    "@objective(m, Max, 5d + 5w)\n",
    "\n",
    "@constraint(m, constraint1, 2d + 4w <= 18) # machine1\n",
    "@constraint(m, constraint2, 6d + 5w <= 30) # machine2\n",
    "\n",
    "print(m)\n",
    "\n",
    "JuMP.optimize!(m)\n",
    "\n",
    "println(\"Optimal Solution:\")\n",
    "println(\"d = \", JuMP.value(d))\n",
    "println(\"w = \", JuMP.value(w))\n",
    "println(\"Objective value: \", JuMP.objective_value(m))\n",
    "\n"
   ]
  },
  {
   "cell_type": "code",
   "execution_count": null,
   "metadata": {},
   "outputs": [],
   "source": []
  }
 ],
 "metadata": {
  "kernelspec": {
   "display_name": "Julia 1.6.3",
   "language": "julia",
   "name": "julia-1.6"
  },
  "language_info": {
   "file_extension": ".jl",
   "mimetype": "application/julia",
   "name": "julia",
   "version": "1.6.3"
  }
 },
 "nbformat": 4,
 "nbformat_minor": 4
}
