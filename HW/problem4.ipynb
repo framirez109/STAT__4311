{
 "cells": [
  {
   "cell_type": "code",
   "execution_count": 3,
   "metadata": {},
   "outputs": [
    {
     "data": {
      "text/latex": [
       "$$ \\begin{aligned}\n",
       "\\max\\quad & 15 x1 + 12 x2 + 16 x3 + 18 x4 + 9 x5 + 11 x6\\\\\n",
       "\\text{Subject to} \\quad & x1 + x2 = 1.0\\\\\n",
       " & x3 + x4 = 1.0\\\\\n",
       " & x1 + x2 - x3 - x4 = 0.0\\\\\n",
       " & 38 x1 + 33 x2 + 39 x3 + 45 x4 + 23 x5 + 27 x6 \\leq 100.0\\\\\n",
       " & x1 \\in \\{0, 1\\}\\\\\n",
       " & x2 \\in \\{0, 1\\}\\\\\n",
       " & x3 \\in \\{0, 1\\}\\\\\n",
       " & x4 \\in \\{0, 1\\}\\\\\n",
       " & x5 \\in \\{0, 1\\}\\\\\n",
       " & x6 \\in \\{0, 1\\}\\\\\n",
       "\\end{aligned} $$"
      ]
     },
     "metadata": {},
     "output_type": "display_data"
    },
    {
     "name": "stdout",
     "output_type": "stream",
     "text": [
      "Optimal Solution:\n",
      "x1 = 1.0\n",
      "x2 = 0.0\n",
      "x3 = 1.0\n",
      "x4 = 0.0\n",
      "x5 = 1.0\n",
      "x6 = 0.0\n",
      "Objective value: 40.0\n"
     ]
    }
   ],
   "source": [
    "using JuMP, GLPK\n",
    "\n",
    "m = Model(GLPK.Optimizer)\n",
    "\n",
    "@variable(m, x1, Bin)\n",
    "@variable(m, x2, Bin)\n",
    "\n",
    "@objective(m, Max, 5x1 + 5x2)\n",
    "\n",
    "@constraint(m, m1, 2x1 + 4x2 <= 18)\n",
    "@constraint(m, m2, x1 + x2 <= 1)\n",
    "\n",
    "print(m)\n",
    "\n",
    "JuMP.optimize!(m)\n",
    "\n",
    "println(\"Optimal Solution:\")\n",
    "println(\"x1 = \", JuMP.value(x1))\n",
    "println(\"x2 = \", JuMP.value(x2))\n",
    "println(\"Objective value: \", JuMP.objective_value(m))\n",
    "\n"
   ]
  },
  {
   "cell_type": "code",
   "execution_count": null,
   "metadata": {},
   "outputs": [],
   "source": []
  }
 ],
 "metadata": {
  "kernelspec": {
   "display_name": "Julia 1.6.3",
   "language": "julia",
   "name": "julia-1.6"
  },
  "language_info": {
   "file_extension": ".jl",
   "mimetype": "application/julia",
   "name": "julia",
   "version": "1.6.3"
  }
 },
 "nbformat": 4,
 "nbformat_minor": 4
}
