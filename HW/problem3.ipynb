{
 "cells": [
  {
   "cell_type": "code",
   "execution_count": 10,
   "metadata": {},
   "outputs": [
    {
     "data": {
      "text/latex": [
       "$$ \\begin{aligned}\n",
       "\\max\\quad & x1 + 1.8 x2 + 1.6 x3 + 0.8 x4 + 1.4 x5\\\\\n",
       "\\text{Subject to} \\quad & 6 x1 + 12 x2 + 10 x3 + 4 x4 + 8 x5 \\leq 20.0\\\\\n",
       " & x1 \\in \\{0, 1\\}\\\\\n",
       " & x2 \\in \\{0, 1\\}\\\\\n",
       " & x3 \\in \\{0, 1\\}\\\\\n",
       " & x4 \\in \\{0, 1\\}\\\\\n",
       " & x5 \\in \\{0, 1\\}\\\\\n",
       "\\end{aligned} $$"
      ]
     },
     "metadata": {},
     "output_type": "display_data"
    },
    {
     "name": "stdout",
     "output_type": "stream",
     "text": [
      "Optimal Solution:\n",
      "x1 = 1.0\n",
      "x2 = 0.0\n",
      "x3 = 1.0\n",
      "x4 = 1.0\n",
      "x5 = 0.0\n",
      "Objective value: 3.4000000000000004\n"
     ]
    }
   ],
   "source": [
    "using JuMP, GLPK\n",
    "\n",
    "m = Model(GLPK.Optimizer)\n",
    "\n",
    "@variable(m, x1, Bin)\n",
    "@variable(m, x2, Bin)\n",
    "@variable(m, x3, Bin)\n",
    "@variable(m, x4, Bin)\n",
    "@variable(m, x5, Bin)\n",
    "\n",
    "\n",
    "@objective(m, Max, 1x1 + 1.8x2 + 1.6x3 + 0.8x4 + 1.4x5)\n",
    "\n",
    "@constraint(m, , 6x1 + 12x2 + 10x3 + 4x4 + 8x5 <= 20)\n",
    "\n",
    "print(m)\n",
    "\n",
    "JuMP.optimize!(m)\n",
    "\n",
    "println(\"Optimal Solution:\")\n",
    "println(\"x1 = \", JuMP.value(x1))\n",
    "println(\"x2 = \", JuMP.value(x2))\n",
    "println(\"x3 = \", JuMP.value(x3))\n",
    "println(\"x4 = \", JuMP.value(x4))\n",
    "println(\"x5 = \", JuMP.value(x5))\n",
    "println(\"Objective value: \", JuMP.objective_value(m))\n",
    "\n"
   ]
  },
  {
   "cell_type": "code",
   "execution_count": null,
   "metadata": {},
   "outputs": [],
   "source": []
  }
 ],
 "metadata": {
  "kernelspec": {
   "display_name": "Julia 1.6.3",
   "language": "julia",
   "name": "julia-1.6"
  },
  "language_info": {
   "file_extension": ".jl",
   "mimetype": "application/julia",
   "name": "julia",
   "version": "1.6.3"
  }
 },
 "nbformat": 4,
 "nbformat_minor": 4
}
